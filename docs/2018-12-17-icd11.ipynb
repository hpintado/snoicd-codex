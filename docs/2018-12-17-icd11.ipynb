{
 "cells": [
  {
   "cell_type": "markdown",
   "metadata": {},
   "source": [
    "# ICD-11, estructura y relación con ICD-9/10\n",
    "\n",
    "_Guillermo Facundo Colunga_"
   ]
  },
  {
   "cell_type": "markdown",
   "metadata": {},
   "source": [
    "## Definition\n",
    "\n",
    "The ICD has been designed to address the needs of a broad range of use cases: Mortality, morbidity, epidemiology, casemix, quality and safety, primary care. Detailed information on the different use cases is available in other sections for mortality use and different morbidity uses. A situation may arise, which anticipates using the ICD-11 for a purpose for which it has not been designed. In this situation, the categorization used within the ICD-11 and its additional features may not be able to address such a new use case. In such cases, it is recommended to consult with the WHO to ensure that the information collected is appropriate to the intended new use."
   ]
  },
  {
   "cell_type": "markdown",
   "metadata": {},
   "source": [
    "## Structure\n",
    "\n",
    "The codes of ICD–11 are alphanumeric and cover the range from 1A00.00 to ZZ9Z.ZZ. Codes starting with ‘X’ indicate an extension code (see Section 2.9 ‘Extension Codes’). The inclusion of a forced number at the 3rd character position prevents spelling ‘undesirable words’. The letters ‘O’ and ‘I’ are omitted to prevent confusion with the numbers ‘0’ and ‘1’. Technically, the coding scheme would be described as below:\n",
    "\n",
    "ED1E.EE\n",
    "\n",
    "- E corresponds to a ‘base 34 number’ (0-9 and A-Z; excluding O, I);\n",
    "- D corresponds to ‘base 24 number’ (A-Z; excluding O, I); and\n",
    "- 1 corresponds to the ‘base 10 integers’ (0-9)\n",
    "- The first E starts with ‘1’ and is allocated for the chapter. (i.e. 1 is for the first chapter, 2: chapter 2, … A chapter 10, etc.)\n",
    "- The terminal letter Y is reserved for the residual category ‘other specified’ and the terminal letter ‘Z’ is reserved for the residual category ‘unspecified’. For the chapters that have more than 240 blocks, ‘F’ (‘other specified’) and ‘G’ (‘unspecified’) are also used to indicate residual categories (due to problems with the coding space).\n",
    "\n",
    "- Chapters are indicated by the first character. For example, 1A00 is a code in chapter 1, and BA00 is a code in chapter 11.\n",
    "\n",
    "- Blocks are not coded within this code structure – each has its own. However, hierarchical relations are retained in the 4-digit codes. There is unused coding space allocated in all blocks to allow for later updates and to keep the codes stable."
   ]
  },
  {
   "cell_type": "markdown",
   "metadata": {},
   "source": [
    "## Relation to ICD-10\n",
    "\n",
    "https://icd.who.int/dev11/content/refguide.ICD11_en/html/index.html#3.1.0Part3Annexdifferences|part-3-what-is-new-in-icd-11|c3"
   ]
  },
  {
   "cell_type": "markdown",
   "metadata": {},
   "source": [
    "## Referencias\n",
    "\n",
    "- https://icd.who.int/dev11/l-m/en\n",
    "\n",
    "- https://icd.who.int/dev11/content/refguide.ICD11_en/html/index.html\n",
    "\n",
    "- https://www.icd10monitor.com/icd-11-is-coming-take-time-to-adjust\n",
    "\n",
    "- https://www.beckershospitalreview.com/finance/icd-10-or-icd-11-the-dilemma-behind-both-coding-systems.html\n",
    "\n",
    "- https://icd.who.int/icdapi/docs/APIdoc.html"
   ]
  },
  {
   "cell_type": "code",
   "execution_count": null,
   "metadata": {},
   "outputs": [],
   "source": []
  }
 ],
 "metadata": {
  "kernelspec": {
   "display_name": "Python 3",
   "language": "python",
   "name": "python3"
  },
  "language_info": {
   "codemirror_mode": {
    "name": "ipython",
    "version": 3
   },
   "file_extension": ".py",
   "mimetype": "text/x-python",
   "name": "python",
   "nbconvert_exporter": "python",
   "pygments_lexer": "ipython3",
   "version": "3.6.6"
  }
 },
 "nbformat": 4,
 "nbformat_minor": 2
}
