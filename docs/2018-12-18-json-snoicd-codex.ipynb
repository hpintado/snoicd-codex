{
 "cells": [
  {
   "cell_type": "markdown",
   "metadata": {},
   "source": [
    "# Snoicd-codex API\n",
    "_Guillermo Facundo Colunga_"
   ]
  },
  {
   "cell_type": "markdown",
   "metadata": {},
   "source": [
    "## `/api/codes/34693000`"
   ]
  },
  {
   "cell_type": "markdown",
   "metadata": {},
   "source": [
    "```json\n",
    "\n",
    "{\n",
    "    \"snomedCode\" : \"34693000\",\n",
    "    \"icd-9Code\" : \"A0193\",\n",
    "    \"icd-10Code\" : \"AA.AA0174\",\n",
    "    \"description\" : \"Zalcitabine (product)\",\n",
    "    \"children\" : [ \n",
    "        {\n",
    "            \"snomedCode\" : \"294373001\",\n",
    "            \"icd-9Code\" : \"Y09828\",\n",
    "            \"icd-10Code\" : \"U.J638\",\n",
    "            \"description\" : \"Zalcitabine allergy (disorder)\"\n",
    "        }, \n",
    "        {\n",
    "            \"snomedCode\" : \"324818001\",\n",
    "            \"icd-9Code\" : \"658A5\",\n",
    "            \"icd-10Code\" : \"S1234\",\n",
    "            \"description\" : \"Zalcitabine 750microgram tablet (product)\"\n",
    "        }, \n",
    "        {\n",
    "            \"snomedCode\" : \"324819009\",\n",
    "            \"icd-9Code\" : \"R857\",\n",
    "            \"icd-10Code\" : \"EE.11.DEE\",\n",
    "            \"description\" : \"Zalcitabine 375microgram tablet (product)\"\n",
    "        }, \n",
    "        {\n",
    "            \"snomedCode\" : \"292833004\",\n",
    "            \"icd-9Code\" : \"A.B.C.11\",\n",
    "            \"icd-10Code\" : \"EE.1.CC\",\n",
    "            \"description\" : \"Zalcitabine adverse reaction (disorder)\"\n",
    "        }\n",
    "    ]\n",
    "}\n",
    "\n",
    "```"
   ]
  },
  {
   "cell_type": "markdown",
   "metadata": {},
   "source": [
    "## Performance\n",
    "\n",
    "**Queries per second:** 1.000 (tested with 99% availability and one node)"
   ]
  },
  {
   "cell_type": "code",
   "execution_count": null,
   "metadata": {},
   "outputs": [],
   "source": []
  }
 ],
 "metadata": {
  "kernelspec": {
   "display_name": "Python 3",
   "language": "python",
   "name": "python3"
  },
  "language_info": {
   "codemirror_mode": {
    "name": "ipython",
    "version": 3
   },
   "file_extension": ".py",
   "mimetype": "text/x-python",
   "name": "python",
   "nbconvert_exporter": "python",
   "pygments_lexer": "ipython3",
   "version": "3.6.6"
  }
 },
 "nbformat": 4,
 "nbformat_minor": 2
}
